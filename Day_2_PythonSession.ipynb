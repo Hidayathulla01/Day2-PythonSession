{
 "cells": [
  {
   "cell_type": "code",
   "execution_count": null,
   "id": "0aca167b-f6f0-461e-a577-4cb51efddd7f",
   "metadata": {},
   "outputs": [],
   "source": [
    "#Data types:\n",
    "Strings = 'abc' or \"abc\"\n",
    "integer = 123 or floats = 0.1,0.2\n",
    "Lists = list\n",
    "tuples = tuple \n",
    "Dictionaries = dict"
   ]
  },
  {
   "cell_type": "code",
   "execution_count": null,
   "id": "cf3b52e8-d6a1-4cfe-a720-028788525f58",
   "metadata": {},
   "outputs": [],
   "source": []
  },
  {
   "cell_type": "code",
   "execution_count": null,
   "id": "6b9b9dfe-c1ee-4210-82ae-1a8b945c8442",
   "metadata": {},
   "outputs": [],
   "source": []
  },
  {
   "cell_type": "code",
   "execution_count": null,
   "id": "8f6eaa7c-8f47-44f3-b992-8b43c3ea54ed",
   "metadata": {},
   "outputs": [],
   "source": [
    "#variable declaration"
   ]
  },
  {
   "cell_type": "code",
   "execution_count": 1,
   "id": "1bf90ee1-1446-48d3-9aa2-cbd860c8d3bd",
   "metadata": {},
   "outputs": [
    {
     "name": "stdout",
     "output_type": "stream",
     "text": [
      "Hidaythulla\n"
     ]
    }
   ],
   "source": [
    "name = 'Hidaythulla'\n",
    "print(name)"
   ]
  },
  {
   "cell_type": "code",
   "execution_count": 3,
   "id": "737ceba2-b866-4344-96aa-a30f3de6f3d6",
   "metadata": {},
   "outputs": [
    {
     "ename": "SyntaxError",
     "evalue": "invalid decimal literal (3293401035.py, line 1)",
     "output_type": "error",
     "traceback": [
      "\u001b[1;36m  Cell \u001b[1;32mIn[3], line 1\u001b[1;36m\u001b[0m\n\u001b[1;33m    1name = 'Hidaythulla'\u001b[0m\n\u001b[1;37m    ^\u001b[0m\n\u001b[1;31mSyntaxError\u001b[0m\u001b[1;31m:\u001b[0m invalid decimal literal\n"
     ]
    }
   ],
   "source": [
    "1name = 'Hidaythulla'\n",
    "print(1name)  #variable should not be start with numeric"
   ]
  },
  {
   "cell_type": "code",
   "execution_count": 11,
   "id": "07e042a0-b434-4c88-966c-f6b3a2ef1e4b",
   "metadata": {},
   "outputs": [
    {
     "ename": "SyntaxError",
     "evalue": "invalid syntax (3377334976.py, line 2)",
     "output_type": "error",
     "traceback": [
      "\u001b[1;36m  Cell \u001b[1;32mIn[11], line 2\u001b[1;36m\u001b[0m\n\u001b[1;33m    name@ = 'Hidayath'\u001b[0m\n\u001b[1;37m          ^\u001b[0m\n\u001b[1;31mSyntaxError\u001b[0m\u001b[1;31m:\u001b[0m invalid syntax\n"
     ]
    }
   ],
   "source": [
    "#should not use special char in variable name:\n",
    "name@ = 'Hidayath'\n",
    "print(name@)"
   ]
  },
  {
   "cell_type": "code",
   "execution_count": null,
   "id": "b15f91e8-f527-41eb-a767-7be98e3653a4",
   "metadata": {},
   "outputs": [],
   "source": []
  },
  {
   "cell_type": "code",
   "execution_count": null,
   "id": "661e86f7-c9a8-414b-af4d-35da13976a36",
   "metadata": {},
   "outputs": [],
   "source": [
    "methods: "
   ]
  },
  {
   "cell_type": "code",
   "execution_count": 5,
   "id": "c7dee9ec-5569-41a4-a57b-fe02a2a7084f",
   "metadata": {},
   "outputs": [
    {
     "name": "stdout",
     "output_type": "stream",
     "text": [
      "MD HIDAYATHULLA\n"
     ]
    }
   ],
   "source": [
    "name = 'md hidayathulla'\n",
    "print(name.upper())\n"
   ]
  },
  {
   "cell_type": "code",
   "execution_count": 7,
   "id": "54b86b05-1078-4b7c-96d7-56c40b2261d5",
   "metadata": {},
   "outputs": [
    {
     "name": "stdout",
     "output_type": "stream",
     "text": [
      "md hidayathulla\n"
     ]
    }
   ],
   "source": [
    "print(name.lower())\n"
   ]
  },
  {
   "cell_type": "code",
   "execution_count": 9,
   "id": "eb14932c-8d55-4e79-b4fe-3e9a73393f5a",
   "metadata": {},
   "outputs": [
    {
     "name": "stdout",
     "output_type": "stream",
     "text": [
      "Md Hidayathulla\n"
     ]
    }
   ],
   "source": [
    "print(name.title())"
   ]
  },
  {
   "cell_type": "code",
   "execution_count": null,
   "id": "fff857ac-d7b0-4ae6-9c84-b7f066eba457",
   "metadata": {},
   "outputs": [],
   "source": []
  },
  {
   "cell_type": "code",
   "execution_count": null,
   "id": "6d08b805-6acc-4fe5-9505-7530659338f6",
   "metadata": {},
   "outputs": [],
   "source": []
  },
  {
   "cell_type": "code",
   "execution_count": null,
   "id": "a49c29d6-8cc3-46bf-98d6-ee678ed13fdb",
   "metadata": {},
   "outputs": [],
   "source": []
  },
  {
   "cell_type": "code",
   "execution_count": null,
   "id": "8a726c99-6519-483d-b360-3bddfe83b89a",
   "metadata": {},
   "outputs": [],
   "source": []
  },
  {
   "cell_type": "code",
   "execution_count": null,
   "id": "f5c23722-f7d3-4817-8fb7-81d5da2b7050",
   "metadata": {},
   "outputs": [],
   "source": []
  },
  {
   "cell_type": "code",
   "execution_count": null,
   "id": "014ddb18-527a-4a68-bfcd-89e54184e2e4",
   "metadata": {},
   "outputs": [],
   "source": []
  },
  {
   "cell_type": "code",
   "execution_count": null,
   "id": "3b593c07-18c8-4aab-9a6a-45743a1417e9",
   "metadata": {},
   "outputs": [],
   "source": []
  },
  {
   "cell_type": "code",
   "execution_count": null,
   "id": "7ede52e3-a2a4-45ed-96e8-78ef52d0c2db",
   "metadata": {},
   "outputs": [],
   "source": []
  },
  {
   "cell_type": "code",
   "execution_count": null,
   "id": "ac086058-1498-4828-80ec-347df26758a8",
   "metadata": {},
   "outputs": [],
   "source": []
  }
 ],
 "metadata": {
  "kernelspec": {
   "display_name": "Python 3 (ipykernel)",
   "language": "python",
   "name": "python3"
  },
  "language_info": {
   "codemirror_mode": {
    "name": "ipython",
    "version": 3
   },
   "file_extension": ".py",
   "mimetype": "text/x-python",
   "name": "python",
   "nbconvert_exporter": "python",
   "pygments_lexer": "ipython3",
   "version": "3.12.4"
  }
 },
 "nbformat": 4,
 "nbformat_minor": 5
}
